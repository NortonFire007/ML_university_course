{
 "cells": [
  {
   "cell_type": "code",
   "id": "initial_id",
   "metadata": {
    "collapsed": true,
    "ExecuteTime": {
     "end_time": "2025-03-06T08:46:50.210415Z",
     "start_time": "2025-03-06T08:46:50.206908Z"
    }
   },
   "source": "import numpy as np",
   "outputs": [],
   "execution_count": 1
  },
  {
   "metadata": {},
   "cell_type": "markdown",
   "source": [
    "# Завдання на лабораторну роботу\n",
    "\n",
    "## Завдання 1.\n",
    "Задано 2 одновимірних масиви. Виконайте з ними всі арифметичні операції. Використовуючи метод конкатенації (об’єднання) масивів створіть новий масив з двох попередніх і знайдіть максимальний, мінімальний елемент, суму елементів та їх добуток.\n",
    "\n",
    "## Завдання 2.\n",
    "Задано одновимірний масив із 15 елементів. Сформувати новий масив в якому кожен елемент заданого масиву зменшити на середнє значення та відсортувати отриманий масив за зростанням.\n",
    "\n",
    "## Завдання 3.\n",
    "Задано одновимірний масив з 20 елементів. Для ініціалізації використайте функцію random(). Перетворіть його у двовимірний. Кожен елемент масиву збільшити на 10.\n",
    "\n",
    "## Завдання 4.\n",
    "Задано двовимірний масив цілих чисел в діапазоні від -15 до 15. Створіть новий масив в якому всі числа менші 0 замініть на -1, більші 0 - на 1.\n",
    "\n",
    "## Завдання 5.\n",
    "Виконайте наступні операції над матрицями:\n",
    "$\n",
    "2\\left( A+B \\right)\\left( 2B-A \\right)\n",
    "$\n",
    "\n",
    "$\n",
    "A=\\left( \\begin{matrix}\n",
    "   2 & 3 & -1  \\\\\n",
    "   4 & 5 & 2  \\\\\n",
    "   -1 & 0 & 7  \\\\\n",
    "\\end{matrix} \\right)\n",
    "$\n",
    " $\n",
    " B=\\left( \\begin{matrix}\n",
    "   -1 & 0 & 5  \\\\\n",
    "   0 & 1 & 3  \\\\\n",
    "   2 & -2 & 4  \\\\\n",
    "\\end{matrix} \\right)$\n",
    "\n",
    "## Завдання 6\n",
    "Розв'яжіть систему лінійних рівнянь\n",
    "\n",
    "$\\left\\{ \\begin{align}\n",
    "  & {{x}_{1}}+{{x}_{2}}+2{{x}_{3}}+3{{x}_{4}}=1 \\\\\n",
    " & 3{{x}_{1}}-{{x}_{2}}-2{{x}_{3}}-2{{x}_{4}}=-4 \\\\\n",
    " & 2{{x}_{1}}-3{{x}_{2}}-{{x}_{3}}-{{x}_{4}}=-6 \\\\\n",
    " & {{x}_{1}}+2{{x}_{2}}+3{{x}_{3}}-{{x}_{4}}=-4 \\\\\n",
    "\\end{align} \\right.$\n",
    "\n",
    "\n"
   ],
   "id": "9b066f1a961fb85c"
  },
  {
   "metadata": {},
   "cell_type": "markdown",
   "source": "## Завдання 1\n",
   "id": "284c98015006dbe4"
  },
  {
   "metadata": {
    "ExecuteTime": {
     "end_time": "2025-03-06T08:47:14.126733Z",
     "start_time": "2025-03-06T08:47:14.123242Z"
    }
   },
   "cell_type": "code",
   "outputs": [],
   "execution_count": 2,
   "source": [
    "array1 = np.array([1, 2, 3, 4, 5])\n",
    "array2 = np.array([6, 7, 8, 9, 10])"
   ],
   "id": "e057a1f9a3d2bb8e"
  },
  {
   "metadata": {
    "ExecuteTime": {
     "end_time": "2025-03-06T08:49:15.396543Z",
     "start_time": "2025-03-06T08:49:15.392490Z"
    }
   },
   "cell_type": "code",
   "source": [
    "sum_arrays = array1 + array2\n",
    "diff_arrays = array1 - array2\n",
    "prod_arrays = array1 * array2\n",
    "div_arrays = array1 / array2"
   ],
   "id": "4dd9a02201b089f3",
   "outputs": [],
   "execution_count": 3
  },
  {
   "metadata": {
    "ExecuteTime": {
     "end_time": "2025-03-06T08:49:49.042035Z",
     "start_time": "2025-03-06T08:49:49.037001Z"
    }
   },
   "cell_type": "code",
   "source": "sum_arrays",
   "id": "444e1d00b64a8563",
   "outputs": [
    {
     "data": {
      "text/plain": [
       "array([ 7,  9, 11, 13, 15])"
      ]
     },
     "execution_count": 6,
     "metadata": {},
     "output_type": "execute_result"
    }
   ],
   "execution_count": 6
  },
  {
   "metadata": {
    "ExecuteTime": {
     "end_time": "2025-03-06T08:49:25.234689Z",
     "start_time": "2025-03-06T08:49:25.230691Z"
    }
   },
   "cell_type": "code",
   "source": "concatenated_array = np.concatenate((array1, array2))",
   "id": "35286a55c6ff217c",
   "outputs": [],
   "execution_count": 4
  },
  {
   "metadata": {
    "ExecuteTime": {
     "end_time": "2025-03-06T08:49:28.137974Z",
     "start_time": "2025-03-06T08:49:28.129713Z"
    }
   },
   "cell_type": "code",
   "source": "concatenated_array",
   "id": "4638d0092fc6a1b7",
   "outputs": [
    {
     "data": {
      "text/plain": [
       "array([ 1,  2,  3,  4,  5,  6,  7,  8,  9, 10])"
      ]
     },
     "execution_count": 5,
     "metadata": {},
     "output_type": "execute_result"
    }
   ],
   "execution_count": 5
  },
  {
   "metadata": {
    "ExecuteTime": {
     "end_time": "2025-03-06T08:50:25.547167Z",
     "start_time": "2025-03-06T08:50:25.543144Z"
    }
   },
   "cell_type": "code",
   "source": [
    "max_element = np.max(concatenated_array)\n",
    "min_element = np.min(concatenated_array)\n",
    "sum_elements = np.sum(concatenated_array)\n",
    "prod_elements = np.prod(concatenated_array)"
   ],
   "id": "d23d15d5ff7b1283",
   "outputs": [],
   "execution_count": 7
  },
  {
   "metadata": {
    "ExecuteTime": {
     "end_time": "2025-03-06T08:50:38.608603Z",
     "start_time": "2025-03-06T08:50:38.603724Z"
    }
   },
   "cell_type": "code",
   "source": "max_element",
   "id": "20844c0a7984e647",
   "outputs": [
    {
     "data": {
      "text/plain": [
       "np.int64(10)"
      ]
     },
     "execution_count": 9,
     "metadata": {},
     "output_type": "execute_result"
    }
   ],
   "execution_count": 9
  },
  {
   "metadata": {
    "ExecuteTime": {
     "end_time": "2025-03-06T08:50:40.079115Z",
     "start_time": "2025-03-06T08:50:40.074286Z"
    }
   },
   "cell_type": "code",
   "source": "min_element",
   "id": "6ade4513449cddf2",
   "outputs": [
    {
     "data": {
      "text/plain": [
       "np.int64(1)"
      ]
     },
     "execution_count": 10,
     "metadata": {},
     "output_type": "execute_result"
    }
   ],
   "execution_count": 10
  },
  {
   "metadata": {},
   "cell_type": "markdown",
   "source": "## Завдання 2",
   "id": "63da30c5ca9a8930"
  },
  {
   "metadata": {
    "ExecuteTime": {
     "end_time": "2025-03-06T08:59:11.428033Z",
     "start_time": "2025-03-06T08:59:11.424518Z"
    }
   },
   "cell_type": "code",
   "source": "array = np.random.randint(1, 100, 15)",
   "id": "3f3715a968ef5bf3",
   "outputs": [],
   "execution_count": 33
  },
  {
   "metadata": {
    "ExecuteTime": {
     "end_time": "2025-03-06T08:59:12.914352Z",
     "start_time": "2025-03-06T08:59:12.909509Z"
    }
   },
   "cell_type": "code",
   "source": "array",
   "id": "1bcfaba386ee6de4",
   "outputs": [
    {
     "data": {
      "text/plain": [
       "array([44, 59, 40,  6, 83, 91, 29, 23, 92, 70, 76, 94, 27, 60, 57],\n",
       "      dtype=int32)"
      ]
     },
     "execution_count": 34,
     "metadata": {},
     "output_type": "execute_result"
    }
   ],
   "execution_count": 34
  },
  {
   "metadata": {
    "ExecuteTime": {
     "end_time": "2025-03-06T08:59:14.200610Z",
     "start_time": "2025-03-06T08:59:14.197356Z"
    }
   },
   "cell_type": "code",
   "source": "mean_value = np.mean(array)",
   "id": "e1b6f44221e519c4",
   "outputs": [],
   "execution_count": 35
  },
  {
   "metadata": {
    "ExecuteTime": {
     "end_time": "2025-03-06T08:59:15.336188Z",
     "start_time": "2025-03-06T08:59:15.331829Z"
    }
   },
   "cell_type": "code",
   "source": "mean_value",
   "id": "bee263f29e266105",
   "outputs": [
    {
     "data": {
      "text/plain": [
       "np.float64(56.733333333333334)"
      ]
     },
     "execution_count": 36,
     "metadata": {},
     "output_type": "execute_result"
    }
   ],
   "execution_count": 36
  },
  {
   "metadata": {
    "ExecuteTime": {
     "end_time": "2025-03-06T08:59:16.676522Z",
     "start_time": "2025-03-06T08:59:16.672887Z"
    }
   },
   "cell_type": "code",
   "source": "new_array = array - mean_value",
   "id": "7d2a95c6885a8e31",
   "outputs": [],
   "execution_count": 37
  },
  {
   "metadata": {
    "ExecuteTime": {
     "end_time": "2025-03-06T08:59:18.417301Z",
     "start_time": "2025-03-06T08:59:18.412776Z"
    }
   },
   "cell_type": "code",
   "source": "new_array",
   "id": "99031aaa9be0c8da",
   "outputs": [
    {
     "data": {
      "text/plain": [
       "array([-12.73333333,   2.26666667, -16.73333333, -50.73333333,\n",
       "        26.26666667,  34.26666667, -27.73333333, -33.73333333,\n",
       "        35.26666667,  13.26666667,  19.26666667,  37.26666667,\n",
       "       -29.73333333,   3.26666667,   0.26666667])"
      ]
     },
     "execution_count": 38,
     "metadata": {},
     "output_type": "execute_result"
    }
   ],
   "execution_count": 38
  },
  {
   "metadata": {
    "ExecuteTime": {
     "end_time": "2025-03-06T08:59:19.765304Z",
     "start_time": "2025-03-06T08:59:19.762812Z"
    }
   },
   "cell_type": "code",
   "source": "sorted_array = np.sort(new_array)",
   "id": "cf8136d10f9af26e",
   "outputs": [],
   "execution_count": 39
  },
  {
   "metadata": {
    "ExecuteTime": {
     "end_time": "2025-03-06T08:59:21.132014Z",
     "start_time": "2025-03-06T08:59:21.126902Z"
    }
   },
   "cell_type": "code",
   "source": "sorted_array",
   "id": "8b58f38c872865f3",
   "outputs": [
    {
     "data": {
      "text/plain": [
       "array([-50.73333333, -33.73333333, -29.73333333, -27.73333333,\n",
       "       -16.73333333, -12.73333333,   0.26666667,   2.26666667,\n",
       "         3.26666667,  13.26666667,  19.26666667,  26.26666667,\n",
       "        34.26666667,  35.26666667,  37.26666667])"
      ]
     },
     "execution_count": 40,
     "metadata": {},
     "output_type": "execute_result"
    }
   ],
   "execution_count": 40
  },
  {
   "metadata": {},
   "cell_type": "markdown",
   "source": "## Завдання 3",
   "id": "8c8bc79024ce7607"
  },
  {
   "metadata": {
    "ExecuteTime": {
     "end_time": "2025-03-06T08:59:23.639872Z",
     "start_time": "2025-03-06T08:59:23.636362Z"
    }
   },
   "cell_type": "code",
   "source": "array = np.random.random(20)\n",
   "id": "3e799aaa8b892534",
   "outputs": [],
   "execution_count": 41
  },
  {
   "metadata": {
    "ExecuteTime": {
     "end_time": "2025-03-06T08:59:24.822088Z",
     "start_time": "2025-03-06T08:59:24.817764Z"
    }
   },
   "cell_type": "code",
   "source": "array",
   "id": "65f03a2139a61eec",
   "outputs": [
    {
     "data": {
      "text/plain": [
       "array([0.79505635, 0.69726896, 0.91766802, 0.57074862, 0.72715858,\n",
       "       0.32302134, 0.62217927, 0.19935498, 0.61211705, 0.80990445,\n",
       "       0.86487376, 0.64091553, 0.79807598, 0.44159571, 0.94156656,\n",
       "       0.58215004, 0.26897919, 0.78418539, 0.03691574, 0.873884  ])"
      ]
     },
     "execution_count": 42,
     "metadata": {},
     "output_type": "execute_result"
    }
   ],
   "execution_count": 42
  },
  {
   "metadata": {
    "ExecuteTime": {
     "end_time": "2025-03-06T08:59:26.066946Z",
     "start_time": "2025-03-06T08:59:26.063614Z"
    }
   },
   "cell_type": "code",
   "source": "array_2d = array.reshape(4, 5)",
   "id": "9b21ee0c0b16950c",
   "outputs": [],
   "execution_count": 43
  },
  {
   "metadata": {
    "ExecuteTime": {
     "end_time": "2025-03-06T08:59:27.214161Z",
     "start_time": "2025-03-06T08:59:27.209887Z"
    }
   },
   "cell_type": "code",
   "source": "array_2d",
   "id": "a68c4e8aa2c09906",
   "outputs": [
    {
     "data": {
      "text/plain": [
       "array([[0.79505635, 0.69726896, 0.91766802, 0.57074862, 0.72715858],\n",
       "       [0.32302134, 0.62217927, 0.19935498, 0.61211705, 0.80990445],\n",
       "       [0.86487376, 0.64091553, 0.79807598, 0.44159571, 0.94156656],\n",
       "       [0.58215004, 0.26897919, 0.78418539, 0.03691574, 0.873884  ]])"
      ]
     },
     "execution_count": 44,
     "metadata": {},
     "output_type": "execute_result"
    }
   ],
   "execution_count": 44
  },
  {
   "metadata": {
    "ExecuteTime": {
     "end_time": "2025-03-06T08:59:29.122856Z",
     "start_time": "2025-03-06T08:59:29.120118Z"
    }
   },
   "cell_type": "code",
   "source": "array_2d = array_2d + 10",
   "id": "70514ce810dd3519",
   "outputs": [],
   "execution_count": 45
  },
  {
   "metadata": {
    "ExecuteTime": {
     "end_time": "2025-03-06T08:59:30.590569Z",
     "start_time": "2025-03-06T08:59:30.586360Z"
    }
   },
   "cell_type": "code",
   "source": "array_2d",
   "id": "be97aa73f5918e5",
   "outputs": [
    {
     "data": {
      "text/plain": [
       "array([[10.79505635, 10.69726896, 10.91766802, 10.57074862, 10.72715858],\n",
       "       [10.32302134, 10.62217927, 10.19935498, 10.61211705, 10.80990445],\n",
       "       [10.86487376, 10.64091553, 10.79807598, 10.44159571, 10.94156656],\n",
       "       [10.58215004, 10.26897919, 10.78418539, 10.03691574, 10.873884  ]])"
      ]
     },
     "execution_count": 46,
     "metadata": {},
     "output_type": "execute_result"
    }
   ],
   "execution_count": 46
  },
  {
   "metadata": {},
   "cell_type": "markdown",
   "source": "## Завдання 4",
   "id": "c19c2e11a5247a69"
  },
  {
   "metadata": {
    "ExecuteTime": {
     "end_time": "2025-03-06T09:00:09.689736Z",
     "start_time": "2025-03-06T09:00:09.685644Z"
    }
   },
   "cell_type": "code",
   "source": "array_2d = np.random.randint(-15, 16, (5, 5))",
   "id": "4b18499f3444c32b",
   "outputs": [],
   "execution_count": 47
  },
  {
   "metadata": {
    "ExecuteTime": {
     "end_time": "2025-03-06T09:00:12.747367Z",
     "start_time": "2025-03-06T09:00:12.742089Z"
    }
   },
   "cell_type": "code",
   "source": "array_2d",
   "id": "5b4bf24780043da1",
   "outputs": [
    {
     "data": {
      "text/plain": [
       "array([[  9,  10,   5,  -1,  12],\n",
       "       [  6,  -4, -12, -14,  -2],\n",
       "       [ -2,  -4,  -1,  15, -15],\n",
       "       [ 12,  -3,   3,  11,  -5],\n",
       "       [  6,   2,  -1,   2,  -9]], dtype=int32)"
      ]
     },
     "execution_count": 48,
     "metadata": {},
     "output_type": "execute_result"
    }
   ],
   "execution_count": 48
  },
  {
   "metadata": {
    "ExecuteTime": {
     "end_time": "2025-03-06T09:03:20.110876Z",
     "start_time": "2025-03-06T09:03:20.106686Z"
    }
   },
   "cell_type": "code",
   "source": "new_array_2d = np.where(array_2d < 0, -1, np.where(array_2d > 0, 1, 0))",
   "id": "7eeb032d57c2d6a7",
   "outputs": [],
   "execution_count": 49
  },
  {
   "metadata": {
    "ExecuteTime": {
     "end_time": "2025-03-06T09:03:24.126761Z",
     "start_time": "2025-03-06T09:03:24.121737Z"
    }
   },
   "cell_type": "code",
   "source": "new_array_2d",
   "id": "ec0cfb95859f94ce",
   "outputs": [
    {
     "data": {
      "text/plain": [
       "array([[ 1,  1,  1, -1,  1],\n",
       "       [ 1, -1, -1, -1, -1],\n",
       "       [-1, -1, -1,  1, -1],\n",
       "       [ 1, -1,  1,  1, -1],\n",
       "       [ 1,  1, -1,  1, -1]])"
      ]
     },
     "execution_count": 50,
     "metadata": {},
     "output_type": "execute_result"
    }
   ],
   "execution_count": 50
  },
  {
   "metadata": {},
   "cell_type": "markdown",
   "source": "## Завдання 5",
   "id": "ce7c91ae0be6e2d5"
  },
  {
   "metadata": {
    "ExecuteTime": {
     "end_time": "2025-03-06T09:08:02.809073Z",
     "start_time": "2025-03-06T09:08:02.805078Z"
    }
   },
   "cell_type": "code",
   "source": [
    "A = np.array([[2, 3, -1],\n",
    "              [4, 5, 2],\n",
    "              [-1, 0, 7]])\n",
    "\n",
    "B = np.array([[-1, 0, 5],\n",
    "              [0, 1, 3],\n",
    "              [2, -2, 4]])"
   ],
   "id": "c531bbf7cfd7a92e",
   "outputs": [],
   "execution_count": 51
  },
  {
   "metadata": {
    "ExecuteTime": {
     "end_time": "2025-03-06T09:08:06.406674Z",
     "start_time": "2025-03-06T09:08:06.401570Z"
    }
   },
   "cell_type": "code",
   "source": "A",
   "id": "3fc0bc345389c711",
   "outputs": [
    {
     "data": {
      "text/plain": [
       "array([[ 2,  3, -1],\n",
       "       [ 4,  5,  2],\n",
       "       [-1,  0,  7]])"
      ]
     },
     "execution_count": 52,
     "metadata": {},
     "output_type": "execute_result"
    }
   ],
   "execution_count": 52
  },
  {
   "metadata": {
    "ExecuteTime": {
     "end_time": "2025-03-06T09:09:33.562477Z",
     "start_time": "2025-03-06T09:09:33.557870Z"
    }
   },
   "cell_type": "code",
   "source": "B",
   "id": "7df619f70f6331ef",
   "outputs": [
    {
     "data": {
      "text/plain": [
       "array([[-1,  0,  5],\n",
       "       [ 0,  1,  3],\n",
       "       [ 2, -2,  4]])"
      ]
     },
     "execution_count": 55,
     "metadata": {},
     "output_type": "execute_result"
    }
   ],
   "execution_count": 55
  },
  {
   "metadata": {
    "ExecuteTime": {
     "end_time": "2025-03-06T09:09:17.982419Z",
     "start_time": "2025-03-06T09:09:17.979062Z"
    }
   },
   "cell_type": "code",
   "source": "result = 2 * np.dot(A + B, 2 * B - A)\n",
   "id": "625219d6a9fcf8d0",
   "outputs": [],
   "execution_count": 53
  },
  {
   "metadata": {
    "ExecuteTime": {
     "end_time": "2025-03-06T09:09:22.489762Z",
     "start_time": "2025-03-06T09:09:22.483198Z"
    }
   },
   "cell_type": "code",
   "source": "result",
   "id": "fa899cc94697755a",
   "outputs": [
    {
     "data": {
      "text/plain": [
       "array([[   8,  -56,   54],\n",
       "       [ -30, -100,  146],\n",
       "       [ 118,  -82,   28]])"
      ]
     },
     "execution_count": 54,
     "metadata": {},
     "output_type": "execute_result"
    }
   ],
   "execution_count": 54
  },
  {
   "metadata": {},
   "cell_type": "markdown",
   "source": "## Завдання 6",
   "id": "9aa54502efed0950"
  },
  {
   "metadata": {
    "ExecuteTime": {
     "end_time": "2025-03-06T09:11:04.964220Z",
     "start_time": "2025-03-06T09:11:04.959726Z"
    }
   },
   "cell_type": "code",
   "source": [
    "coeff = np.array([[1, 1, 2, 3],\n",
    "                  [3, -1, -2, -2],\n",
    "                  [2, -3, -1, -1],\n",
    "                  [1, 2, 3, -1]])"
   ],
   "id": "786e40b2235988ac",
   "outputs": [],
   "execution_count": 56
  },
  {
   "metadata": {
    "ExecuteTime": {
     "end_time": "2025-03-06T09:11:10.688224Z",
     "start_time": "2025-03-06T09:11:10.684221Z"
    }
   },
   "cell_type": "code",
   "source": "constants = np.array([1, -4, -6, -4])",
   "id": "cc229083303e5da8",
   "outputs": [],
   "execution_count": 57
  },
  {
   "metadata": {
    "ExecuteTime": {
     "end_time": "2025-03-06T09:11:25.814289Z",
     "start_time": "2025-03-06T09:11:25.810940Z"
    }
   },
   "cell_type": "code",
   "source": "result = np.linalg.solve(coeff, constants)",
   "id": "fee997c9724690d5",
   "outputs": [],
   "execution_count": 58
  },
  {
   "metadata": {
    "ExecuteTime": {
     "end_time": "2025-03-06T09:14:11.577499Z",
     "start_time": "2025-03-06T09:14:11.573772Z"
    }
   },
   "cell_type": "code",
   "source": [
    "for i, x in enumerate(result, start=1):\n",
    "    print(f\"x{i} = {x:.2f}\")"
   ],
   "id": "312e14c32a92e09",
   "outputs": [
    {
     "name": "stdout",
     "output_type": "stream",
     "text": [
      "x1 = -1.06\n",
      "x2 = 1.39\n",
      "x3 = -1.50\n",
      "x4 = 1.22\n"
     ]
    }
   ],
   "execution_count": 60
  }
 ],
 "metadata": {
  "kernelspec": {
   "display_name": "Python 3",
   "language": "python",
   "name": "python3"
  },
  "language_info": {
   "codemirror_mode": {
    "name": "ipython",
    "version": 2
   },
   "file_extension": ".py",
   "mimetype": "text/x-python",
   "name": "python",
   "nbconvert_exporter": "python",
   "pygments_lexer": "ipython2",
   "version": "2.7.6"
  }
 },
 "nbformat": 4,
 "nbformat_minor": 5
}
